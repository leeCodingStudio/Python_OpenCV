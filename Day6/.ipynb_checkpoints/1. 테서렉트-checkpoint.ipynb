{
 "cells": [
  {
   "cell_type": "markdown",
   "id": "b983a24c",
   "metadata": {},
   "source": [
    "# 1. OCR(Optical Character Recognition)\n",
    "* 광학 문자 인식\n",
    "* 이미지나 문서에서 텍스트를 자동으로 인식하고 컴퓨터가 이해할 수 있는 텍스트 데이터로 변환하는 프로세스"
   ]
  },
  {
   "cell_type": "markdown",
   "id": "f0cfe910",
   "metadata": {},
   "source": [
    "# 2. 테서렉트(Tesseract)\n",
    "* 오픈 소스 OCR 라이브러리로 구글에서 개발하고 현재는 여러 커뮤니티에 의해 유지보수\n",
    "* https://github.com/UB-Mannheim/tesseract/wiki 에서 tesseract-ocr-w64-setup-5.3.1.20230401.exe 를 다운로드(2023.07.31 기준)\n",
    "* 설치중 - Choose Components에서 additional scriptdata(download) 트리를 내려 Hangul script와 Hangul vertical script를 체크. Additional language data(download)에서 koran을 체크\n",
    "* C:\\Program Files\\Tesseract-OCR 에 설치"
   ]
  },
  {
   "cell_type": "code",
   "execution_count": null,
   "id": "4d8b2b74",
   "metadata": {},
   "outputs": [],
   "source": []
  }
 ],
 "metadata": {
  "kernelspec": {
   "display_name": "Python 3 (ipykernel)",
   "language": "python",
   "name": "python3"
  },
  "language_info": {
   "codemirror_mode": {
    "name": "ipython",
    "version": 3
   },
   "file_extension": ".py",
   "mimetype": "text/x-python",
   "name": "python",
   "nbconvert_exporter": "python",
   "pygments_lexer": "ipython3",
   "version": "3.8.6"
  }
 },
 "nbformat": 4,
 "nbformat_minor": 5
}
