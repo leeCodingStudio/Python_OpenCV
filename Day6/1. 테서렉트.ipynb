{
 "cells": [
  {
   "cell_type": "markdown",
   "id": "dbecaa31",
   "metadata": {},
   "source": [
    "# 1. OCR(Optical Character Recognition)\n",
    "* 광학 문자 인식\n",
    "* 이미지나 문서에서 텍스트를 자동으로 인식하고 컴퓨터가 이해할 수 있는 텍스트 데이터로 변환하는 프로세스"
   ]
  },
  {
   "cell_type": "markdown",
   "id": "5c69e459",
   "metadata": {},
   "source": [
    "# 2. 테서렉트(Tesseract)\n",
    "* 오픈 소스 OCR 라이브러리로 구글에서 개발하고 현재는 여러 커뮤니티에 의해 유지보수\n",
    "* https://github.com/UB-Mannheim/tesseract/wiki 에서 tesseract-ocr-w64-setup-5.3.1.20230401.exe 를 다운로드(2023.07.31 기준)\n",
    "* 설치중 - Choose Components에서 additional scriptdata(download) 트리를 내려 Hangul script와 Hangul vertical script를 체크. Additional language data(download)에서 koran을 체크\n",
    "* C:\\Program Files\\Tesseract-OCR 에 설치\n",
    "* 환경 설정\n",
    "    * 탐색기 -> \"내 PC\"에서 마우스 오른쪽 버튼 클릭 \"속성\"을 선택 -> 창을 최대화한 후 우특 메뉴 \"고급 시스템 설정\"을 클릭 -> \"환경 변수\" 버튼 클릭 -> 시스템 변수에서 \"path\"를 선택하고 \"편집\" 버튼을 클릭 -> \"새로 만들기\" 버튼을 클릭 -> 테서렉트 설치 경로를 추가(C:\\Program Files\\Tesseract-OCR)"
   ]
  },
  {
   "cell_type": "code",
   "execution_count": 1,
   "id": "87e51565",
   "metadata": {},
   "outputs": [
    {
     "name": "stdout",
     "output_type": "stream",
     "text": [
      "Collecting pytesseract\n",
      "  Downloading pytesseract-0.3.10-py3-none-any.whl (14 kB)\n",
      "Collecting packaging>=21.3\n",
      "  Using cached packaging-23.1-py3-none-any.whl (48 kB)\n",
      "Collecting Pillow>=8.0.0\n",
      "  Using cached Pillow-10.0.0-cp310-cp310-win_amd64.whl (2.5 MB)\n",
      "Installing collected packages: Pillow, packaging, pytesseract\n",
      "Successfully installed Pillow-10.0.0 packaging-23.1 pytesseract-0.3.10\n"
     ]
    },
    {
     "name": "stderr",
     "output_type": "stream",
     "text": [
      "\n",
      "[notice] A new release of pip is available: 23.0.1 -> 23.2.1\n",
      "[notice] To update, run: python.exe -m pip install --upgrade pip\n"
     ]
    }
   ],
   "source": [
    "# 파이썬에서 테서렉트 설치\n",
    "!pip install pytesseract"
   ]
  },
  {
   "cell_type": "code",
   "execution_count": null,
   "id": "37d2cd12",
   "metadata": {},
   "outputs": [],
   "source": [
    "!pip i"
   ]
  },
  {
   "cell_type": "code",
   "execution_count": 3,
   "id": "059e0db0",
   "metadata": {},
   "outputs": [
    {
     "ename": "ModuleNotFoundError",
     "evalue": "No module named 'pytesseract'",
     "output_type": "error",
     "traceback": [
      "\u001b[1;31m---------------------------------------------------------------------------\u001b[0m",
      "\u001b[1;31mModuleNotFoundError\u001b[0m                       Traceback (most recent call last)",
      "Cell \u001b[1;32mIn[3], line 1\u001b[0m\n\u001b[1;32m----> 1\u001b[0m \u001b[38;5;28;01mimport\u001b[39;00m \u001b[38;5;21;01mpytesseract\u001b[39;00m\n",
      "\u001b[1;31mModuleNotFoundError\u001b[0m: No module named 'pytesseract'"
     ]
    }
   ],
   "source": [
    "import pytesseract"
   ]
  },
  {
   "cell_type": "code",
   "execution_count": null,
   "id": "e58410aa",
   "metadata": {},
   "outputs": [],
   "source": []
  }
 ],
 "metadata": {
  "kernelspec": {
   "display_name": "Python 3 (ipykernel)",
   "language": "python",
   "name": "python3"
  },
  "language_info": {
   "codemirror_mode": {
    "name": "ipython",
    "version": 3
   },
   "file_extension": ".py",
   "mimetype": "text/x-python",
   "name": "python",
   "nbconvert_exporter": "python",
   "pygments_lexer": "ipython3",
   "version": "3.8.6"
  }
 },
 "nbformat": 4,
 "nbformat_minor": 5
}
